{
 "cells": [
  {
   "cell_type": "code",
   "execution_count": 1,
   "metadata": {
    "id": "igMyGnjE9hEp"
   },
   "outputs": [],
   "source": [
    "import csv\n",
    "\n",
    "import numpy as np\n",
    "import pandas as pd\n",
    "import tensorflow as tf\n",
    "from sklearn.model_selection import train_test_split\n",
    "\n",
    "RANDOM_SEED = 40"
   ]
  },
  {
   "cell_type": "markdown",
   "metadata": {
    "id": "t2HDvhIu9hEr"
   },
   "source": [
    "# Specify each path"
   ]
  },
  {
   "cell_type": "code",
   "execution_count": 2,
   "metadata": {
    "id": "9NvZP2Zn9hEy"
   },
   "outputs": [],
   "source": [
    "dataset = 'model/keypoint.csv'\n",
    "model_save_path = 'model/keypoint_classifier.hdf5'\n",
    "tflite_save_path = 'model/keypoint_classifier.tflite'"
   ]
  },
  {
   "cell_type": "markdown",
   "metadata": {
    "id": "s5oMH7x19hEz"
   },
   "source": [
    "# Set number of classes"
   ]
  },
  {
   "cell_type": "code",
   "execution_count": 3,
   "metadata": {
    "id": "du4kodXL9hEz"
   },
   "outputs": [],
   "source": [
    "NUM_CLASSES = 9"
   ]
  },
  {
   "cell_type": "markdown",
   "metadata": {
    "id": "XjnL0uso9hEz"
   },
   "source": [
    "# Dataset reading"
   ]
  },
  {
   "cell_type": "code",
   "execution_count": 4,
   "metadata": {
    "id": "QT5ZqtEz9hE0"
   },
   "outputs": [],
   "source": [
    "X_dataset = np.loadtxt(dataset, delimiter=',', dtype='float32', usecols=list(range(1, (21 * 2) + 1)))"
   ]
  },
  {
   "cell_type": "code",
   "execution_count": 5,
   "metadata": {
    "id": "QmoKFsp49hE0"
   },
   "outputs": [],
   "source": [
    "y_dataset = np.loadtxt(dataset, delimiter=',', dtype='int32', usecols=(0))"
   ]
  },
  {
   "cell_type": "code",
   "execution_count": 6,
   "metadata": {
    "id": "xQU7JTZ_9hE0"
   },
   "outputs": [],
   "source": [
    "X_train, X_test, y_train, y_test = train_test_split(X_dataset, y_dataset, train_size=0.75, random_state=RANDOM_SEED)"
   ]
  },
  {
   "cell_type": "code",
   "execution_count": 7,
   "metadata": {},
   "outputs": [
    {
     "name": "stdout",
     "output_type": "stream",
     "text": [
      "(array([0, 1, 2, 3, 4, 5, 6, 7, 8]), array([ 500, 1046,  546,  521,  550,  490,  459,  381,  590], dtype=int64))\n"
     ]
    },
    {
     "data": {
      "image/png": "[encoded data removed]",
      "text/plain": [
       "<Figure size 432x288 with 1 Axes>"
      ]
     },
     "metadata": {
      "needs_background": "light"
     },
     "output_type": "display_data"
    }
   ],
   "source": [
    "# Classes count\n",
    "counts = np.unique(y_dataset, return_counts=True)\n",
    "df = pd.DataFrame(counts)\n",
    "df.T.plot(kind=\"bar\", stacked=True)\n",
    "print(counts)"
   ]
  },
  {
   "cell_type": "markdown",
   "metadata": {
    "id": "mxK_lETT9hE0"
   },
   "source": [
    "# Model building"
   ]
  },
  {
   "cell_type": "code",
   "execution_count": 8,
   "metadata": {
    "id": "vHBmUf1t9hE1"
   },
   "outputs": [],
   "source": [
    "model = tf.keras.models.Sequential([\n",
    "    tf.keras.layers.Input((21 * 2, )),\n",
    "    tf.keras.layers.Dropout(0.2),\n",
    "    tf.keras.layers.Dense(20, activation='relu'),\n",
    "    tf.keras.layers.Dropout(0.4),\n",
    "    tf.keras.layers.Dense(15, activation='relu'),\n",
    "    tf.keras.layers.Dense(NUM_CLASSES, activation='softmax')\n",
    "])"
   ]
  },
  {
   "cell_type": "code",
   "execution_count": 9,
   "metadata": {
    "colab": {
     "base_uri": "https://localhost:8080/"
    },
    "id": "ypqky9tc9hE1",
    "outputId": "5db082bb-30e3-4110-bf63-a1ee777ecd46"
   },
   "outputs": [
    {
     "name": "stdout",
     "output_type": "stream",
     "text": [
      "Model: \"sequential\"\n",
      "_________________________________________________________________\n",
      "Layer (type)                 Output Shape              Param #   \n",
      "=================================================================\n",
      "dropout (Dropout)            (None, 42)                0         \n",
      "_________________________________________________________________\n",
      "dense (Dense)                (None, 20)                860       \n",
      "_________________________________________________________________\n",
      "dropout_1 (Dropout)          (None, 20)                0         \n",
      "_________________________________________________________________\n",
      "dense_1 (Dense)              (None, 15)                315       \n",
      "_________________________________________________________________\n",
      "dense_2 (Dense)              (None, 9)                 144       \n",
      "=================================================================\n",
      "Total params: 1,319\n",
      "Trainable params: 1,319\n",
      "Non-trainable params: 0\n",
      "_________________________________________________________________\n"
     ]
    }
   ],
   "source": [
    "model.summary()  # tf.keras.utils.plot_model(model, show_shapes=True)"
   ]
  },
  {
   "cell_type": "code",
   "execution_count": 10,
   "metadata": {
    "id": "MbMjOflQ9hE1"
   },
   "outputs": [],
   "source": [
    "# Model checkpoint callback\n",
    "cp_callback = tf.keras.callbacks.ModelCheckpoint(\n",
    "    model_save_path, verbose=1, save_weights_only=False)\n",
    "# Callback for early stopping\n",
    "es_callback = tf.keras.callbacks.EarlyStopping(patience=20, verbose=1)"
   ]
  },
  {
   "cell_type": "code",
   "execution_count": 11,
   "metadata": {
    "id": "c3Dac0M_9hE2"
   },
   "outputs": [],
   "source": [
    "# Model compilation\n",
    "model.compile(\n",
    "    optimizer='adam',\n",
    "    loss='sparse_categorical_crossentropy',\n",
    "    metrics=['accuracy']\n",
    ")"
   ]
  },
  {
   "cell_type": "markdown",
   "metadata": {
    "id": "7XI0j1Iu9hE2"
   },
   "source": [
    "# Model training"
   ]
  },
  {
   "cell_type": "code",
   "execution_count": 12,
   "metadata": {
    "colab": {
     "base_uri": "https://localhost:8080/"
    },
    "id": "WirBl-JE9hE3",
    "outputId": "71b30ca2-8294-4d9d-8aa2-800d90d399de",
    "scrolled": true
   },
   "outputs": [
    {
     "name": "stdout",
     "output_type": "stream",
     "text": [
      "Epoch 1/1000\n",
      "30/30 [==============================] - 1s 6ms/step - loss: 2.1680 - accuracy: 0.1382 - val_loss: 2.0491 - val_accuracy: 0.3068\n",
      "\n",
      "Epoch 00001: saving model to model\\keypoint_classifier.hdf5\n",
      "Epoch 2/1000\n",
      "30/30 [==============================] - 0s 2ms/step - loss: 1.9961 - accuracy: 0.2699 - val_loss: 1.8629 - val_accuracy: 0.3171\n",
      "\n",
      "Epoch 00002: saving model to model\\keypoint_classifier.hdf5\n",
      "Epoch 3/1000\n",
      "30/30 [==============================] - 0s 2ms/step - loss: 1.8297 - accuracy: 0.3437 - val_loss: 1.6348 - val_accuracy: 0.4288\n",
      "\n",
      "Epoch 00003: saving model to model\\keypoint_classifier.hdf5\n",
      "Epoch 4/1000\n",
      "30/30 [==============================] - 0s 2ms/step - loss: 1.6484 - accuracy: 0.3903 - val_loss: 1.4284 - val_accuracy: 0.5161\n",
      "\n",
      "Epoch 00004: saving model to model\\keypoint_classifier.hdf5\n",
      "Epoch 5/1000\n",
      "30/30 [==============================] - 0s 3ms/step - loss: 1.4724 - accuracy: 0.4360 - val_loss: 1.2679 - val_accuracy: 0.4870\n",
      "\n",
      "Epoch 00005: saving model to model\\keypoint_classifier.hdf5\n",
      "Epoch 6/1000\n",
      "30/30 [==============================] - 0s 3ms/step - loss: 1.3631 - accuracy: 0.4591 - val_loss: 1.1575 - val_accuracy: 0.6475\n",
      "\n",
      "Epoch 00006: saving model to model\\keypoint_classifier.hdf5\n",
      "Epoch 7/1000\n",
      "30/30 [==============================] - 0s 3ms/step - loss: 1.2924 - accuracy: 0.4879 - val_loss: 1.0633 - val_accuracy: 0.8057\n",
      "\n",
      "Epoch 00007: saving model to model\\keypoint_classifier.hdf5\n",
      "Epoch 8/1000\n",
      "30/30 [==============================] - 0s 3ms/step - loss: 1.2259 - accuracy: 0.5233 - val_loss: 0.9932 - val_accuracy: 0.8253\n",
      "\n",
      "Epoch 00008: saving model to model\\keypoint_classifier.hdf5\n",
      "Epoch 9/1000\n",
      "30/30 [==============================] - 0s 3ms/step - loss: 1.1730 - accuracy: 0.5323 - val_loss: 0.8960 - val_accuracy: 0.8718\n",
      "\n",
      "Epoch 00009: saving model to model\\keypoint_classifier.hdf5\n",
      "Epoch 10/1000\n",
      "30/30 [==============================] - 0s 2ms/step - loss: 1.1068 - accuracy: 0.5577 - val_loss: 0.8285 - val_accuracy: 0.8891\n",
      "\n",
      "Epoch 00010: saving model to model\\keypoint_classifier.hdf5\n",
      "Epoch 11/1000\n",
      "30/30 [==============================] - 0s 2ms/step - loss: 1.0589 - accuracy: 0.5790 - val_loss: 0.7664 - val_accuracy: 0.9221\n",
      "\n",
      "Epoch 00011: saving model to model\\keypoint_classifier.hdf5\n",
      "Epoch 12/1000\n",
      "30/30 [==============================] - 0s 3ms/step - loss: 1.0101 - accuracy: 0.6083 - val_loss: 0.7074 - val_accuracy: 0.9229\n",
      "\n",
      "Epoch 00012: saving model to model\\keypoint_classifier.hdf5\n",
      "Epoch 13/1000\n",
      "30/30 [==============================] - 0s 3ms/step - loss: 0.9837 - accuracy: 0.6217 - val_loss: 0.6623 - val_accuracy: 0.9260\n",
      "\n",
      "Epoch 00013: saving model to model\\keypoint_classifier.hdf5\n",
      "Epoch 14/1000\n",
      "30/30 [==============================] - 0s 3ms/step - loss: 0.9586 - accuracy: 0.6322 - val_loss: 0.6187 - val_accuracy: 0.9323\n",
      "\n",
      "Epoch 00014: saving model to model\\keypoint_classifier.hdf5\n",
      "Epoch 15/1000\n",
      "30/30 [==============================] - 0s 2ms/step - loss: 0.9042 - accuracy: 0.6485 - val_loss: 0.5687 - val_accuracy: 0.9449\n",
      "\n",
      "Epoch 00015: saving model to model\\keypoint_classifier.hdf5\n",
      "Epoch 16/1000\n",
      "30/30 [==============================] - 0s 2ms/step - loss: 0.8664 - accuracy: 0.6676 - val_loss: 0.5357 - val_accuracy: 0.9504\n",
      "\n",
      "Epoch 00016: saving model to model\\keypoint_classifier.hdf5\n",
      "Epoch 17/1000\n",
      "30/30 [==============================] - 0s 2ms/step - loss: 0.8538 - accuracy: 0.6697 - val_loss: 0.5117 - val_accuracy: 0.9434\n",
      "\n",
      "Epoch 00017: saving model to model\\keypoint_classifier.hdf5\n",
      "Epoch 18/1000\n",
      "30/30 [==============================] - 0s 2ms/step - loss: 0.8296 - accuracy: 0.6842 - val_loss: 0.4766 - val_accuracy: 0.9544\n",
      "\n",
      "Epoch 00018: saving model to model\\keypoint_classifier.hdf5\n",
      "Epoch 19/1000\n",
      "30/30 [==============================] - 0s 3ms/step - loss: 0.8164 - accuracy: 0.6857 - val_loss: 0.4562 - val_accuracy: 0.9709\n",
      "\n",
      "Epoch 00019: saving model to model\\keypoint_classifier.hdf5\n",
      "Epoch 20/1000\n",
      "30/30 [==============================] - 0s 3ms/step - loss: 0.8000 - accuracy: 0.6878 - val_loss: 0.4300 - val_accuracy: 0.9646\n",
      "\n",
      "Epoch 00020: saving model to model\\keypoint_classifier.hdf5\n",
      "Epoch 21/1000\n",
      "30/30 [==============================] - 0s 3ms/step - loss: 0.7690 - accuracy: 0.7020 - val_loss: 0.4096 - val_accuracy: 0.9677\n",
      "\n",
      "Epoch 00021: saving model to model\\keypoint_classifier.hdf5\n",
      "Epoch 22/1000\n",
      "30/30 [==============================] - 0s 3ms/step - loss: 0.7645 - accuracy: 0.7059 - val_loss: 0.3994 - val_accuracy: 0.9670\n",
      "\n",
      "Epoch 00022: saving model to model\\keypoint_classifier.hdf5\n",
      "Epoch 23/1000\n",
      "30/30 [==============================] - 0s 3ms/step - loss: 0.7287 - accuracy: 0.7243 - val_loss: 0.3677 - val_accuracy: 0.9725\n",
      "\n",
      "Epoch 00023: saving model to model\\keypoint_classifier.hdf5\n",
      "Epoch 24/1000\n",
      "30/30 [==============================] - 0s 3ms/step - loss: 0.7373 - accuracy: 0.7138 - val_loss: 0.3597 - val_accuracy: 0.9756\n",
      "\n",
      "Epoch 00024: saving model to model\\keypoint_classifier.hdf5\n",
      "Epoch 25/1000\n",
      "30/30 [==============================] - 0s 4ms/step - loss: 0.7070 - accuracy: 0.7314 - val_loss: 0.3357 - val_accuracy: 0.9827\n",
      "\n",
      "Epoch 00025: saving model to model\\keypoint_classifier.hdf5\n",
      "Epoch 26/1000\n",
      "30/30 [==============================] - 0s 4ms/step - loss: 0.6972 - accuracy: 0.7314 - val_loss: 0.3317 - val_accuracy: 0.9764\n",
      "\n",
      "Epoch 00026: saving model to model\\keypoint_classifier.hdf5\n",
      "Epoch 27/1000\n",
      "30/30 [==============================] - 0s 4ms/step - loss: 0.7043 - accuracy: 0.7356 - val_loss: 0.3179 - val_accuracy: 0.9851\n",
      "\n",
      "Epoch 00027: saving model to model\\keypoint_classifier.hdf5\n",
      "Epoch 28/1000\n",
      "30/30 [==============================] - 0s 4ms/step - loss: 0.6907 - accuracy: 0.7374 - val_loss: 0.3119 - val_accuracy: 0.9803\n",
      "\n",
      "Epoch 00028: saving model to model\\keypoint_classifier.hdf5\n",
      "Epoch 29/1000\n",
      "30/30 [==============================] - 0s 4ms/step - loss: 0.6783 - accuracy: 0.7427 - val_loss: 0.3027 - val_accuracy: 0.9764\n",
      "\n",
      "Epoch 00029: saving model to model\\keypoint_classifier.hdf5\n",
      "Epoch 30/1000\n",
      "30/30 [==============================] - 0s 4ms/step - loss: 0.6798 - accuracy: 0.7442 - val_loss: 0.2889 - val_accuracy: 0.9843\n",
      "\n",
      "Epoch 00030: saving model to model\\keypoint_classifier.hdf5\n",
      "Epoch 31/1000\n",
      "30/30 [==============================] - 0s 4ms/step - loss: 0.6434 - accuracy: 0.7466 - val_loss: 0.2768 - val_accuracy: 0.9835\n",
      "\n",
      "Epoch 00031: saving model to model\\keypoint_classifier.hdf5\n",
      "Epoch 32/1000\n",
      "30/30 [==============================] - 0s 4ms/step - loss: 0.6456 - accuracy: 0.7516 - val_loss: 0.2652 - val_accuracy: 0.9882\n",
      "\n",
      "Epoch 00032: saving model to model\\keypoint_classifier.hdf5\n",
      "Epoch 33/1000\n",
      "30/30 [==============================] - 0s 4ms/step - loss: 0.6281 - accuracy: 0.7529 - val_loss: 0.2696 - val_accuracy: 0.9803\n",
      "\n",
      "Epoch 00033: saving model to model\\keypoint_classifier.hdf5\n",
      "Epoch 34/1000\n",
      "30/30 [==============================] - 0s 3ms/step - loss: 0.6265 - accuracy: 0.7615 - val_loss: 0.2611 - val_accuracy: 0.9898\n",
      "\n",
      "Epoch 00034: saving model to model\\keypoint_classifier.hdf5\n",
      "Epoch 35/1000\n",
      "30/30 [==============================] - 0s 4ms/step - loss: 0.6305 - accuracy: 0.7526 - val_loss: 0.2492 - val_accuracy: 0.9890\n",
      "\n",
      "Epoch 00035: saving model to model\\keypoint_classifier.hdf5\n",
      "Epoch 36/1000\n",
      "30/30 [==============================] - 0s 3ms/step - loss: 0.6256 - accuracy: 0.7631 - val_loss: 0.2497 - val_accuracy: 0.9866\n",
      "\n",
      "Epoch 00036: saving model to model\\keypoint_classifier.hdf5\n",
      "Epoch 37/1000\n",
      "30/30 [==============================] - ETA: 0s - loss: 0.6070 - accuracy: 0.76 - 0s 3ms/step - loss: 0.6069 - accuracy: 0.7676 - val_loss: 0.2366 - val_accuracy: 0.9898\n",
      "\n",
      "Epoch 00037: saving model to model\\keypoint_classifier.hdf5\n",
      "Epoch 38/1000\n",
      "30/30 [==============================] - 0s 3ms/step - loss: 0.5985 - accuracy: 0.7671 - val_loss: 0.2341 - val_accuracy: 0.9890\n",
      "\n",
      "Epoch 00038: saving model to model\\keypoint_classifier.hdf5\n",
      "Epoch 39/1000\n",
      "30/30 [==============================] - 0s 4ms/step - loss: 0.5900 - accuracy: 0.7744 - val_loss: 0.2302 - val_accuracy: 0.9882\n",
      "\n",
      "Epoch 00039: saving model to model\\keypoint_classifier.hdf5\n",
      "Epoch 40/1000\n",
      "30/30 [==============================] - 0s 3ms/step - loss: 0.5804 - accuracy: 0.7760 - val_loss: 0.2314 - val_accuracy: 0.9882\n",
      "\n",
      "Epoch 00040: saving model to model\\keypoint_classifier.hdf5\n",
      "Epoch 41/1000\n"
     ]
    },
    {
     "name": "stdout",
     "output_type": "stream",
     "text": [
      "30/30 [==============================] - 0s 5ms/step - loss: 0.5902 - accuracy: 0.7757 - val_loss: 0.2264 - val_accuracy: 0.9890\n",
      "\n",
      "Epoch 00041: saving model to model\\keypoint_classifier.hdf5\n",
      "Epoch 42/1000\n",
      "30/30 [==============================] - 0s 7ms/step - loss: 0.5743 - accuracy: 0.7867 - val_loss: 0.2152 - val_accuracy: 0.9882\n",
      "\n",
      "Epoch 00042: saving model to model\\keypoint_classifier.hdf5\n",
      "Epoch 43/1000\n",
      "30/30 [==============================] - 0s 3ms/step - loss: 0.5490 - accuracy: 0.7833 - val_loss: 0.2113 - val_accuracy: 0.9890\n",
      "\n",
      "Epoch 00043: saving model to model\\keypoint_classifier.hdf5\n",
      "Epoch 44/1000\n",
      "30/30 [==============================] - 0s 4ms/step - loss: 0.5489 - accuracy: 0.7886 - val_loss: 0.2008 - val_accuracy: 0.9890\n",
      "\n",
      "Epoch 00044: saving model to model\\keypoint_classifier.hdf5\n",
      "Epoch 45/1000\n",
      "30/30 [==============================] - 0s 5ms/step - loss: 0.5456 - accuracy: 0.7917 - val_loss: 0.2077 - val_accuracy: 0.9882\n",
      "\n",
      "Epoch 00045: saving model to model\\keypoint_classifier.hdf5\n",
      "Epoch 46/1000\n",
      "30/30 [==============================] - 0s 4ms/step - loss: 0.5896 - accuracy: 0.7739 - val_loss: 0.2007 - val_accuracy: 0.9906\n",
      "\n",
      "Epoch 00046: saving model to model\\keypoint_classifier.hdf5\n",
      "Epoch 47/1000\n",
      "30/30 [==============================] - 0s 4ms/step - loss: 0.5551 - accuracy: 0.7893 - val_loss: 0.1987 - val_accuracy: 0.9898\n",
      "\n",
      "Epoch 00047: saving model to model\\keypoint_classifier.hdf5\n",
      "Epoch 48/1000\n",
      "30/30 [==============================] - 0s 3ms/step - loss: 0.5757 - accuracy: 0.7812 - val_loss: 0.2090 - val_accuracy: 0.9906\n",
      "\n",
      "Epoch 00048: saving model to model\\keypoint_classifier.hdf5\n",
      "Epoch 49/1000\n",
      "30/30 [==============================] - 0s 6ms/step - loss: 0.5392 - accuracy: 0.7983 - val_loss: 0.2012 - val_accuracy: 0.9921\n",
      "\n",
      "Epoch 00049: saving model to model\\keypoint_classifier.hdf5\n",
      "Epoch 50/1000\n",
      "30/30 [==============================] - 0s 4ms/step - loss: 0.5406 - accuracy: 0.7977 - val_loss: 0.1940 - val_accuracy: 0.9906\n",
      "\n",
      "Epoch 00050: saving model to model\\keypoint_classifier.hdf5\n",
      "Epoch 51/1000\n",
      "30/30 [==============================] - 0s 4ms/step - loss: 0.5549 - accuracy: 0.7823 - val_loss: 0.1980 - val_accuracy: 0.9898\n",
      "\n",
      "Epoch 00051: saving model to model\\keypoint_classifier.hdf5\n",
      "Epoch 52/1000\n",
      "30/30 [==============================] - 0s 4ms/step - loss: 0.5379 - accuracy: 0.7933 - val_loss: 0.1897 - val_accuracy: 0.9898\n",
      "\n",
      "Epoch 00052: saving model to model\\keypoint_classifier.hdf5\n",
      "Epoch 53/1000\n",
      "30/30 [==============================] - 0s 3ms/step - loss: 0.5452 - accuracy: 0.7893 - val_loss: 0.1876 - val_accuracy: 0.9898\n",
      "\n",
      "Epoch 00053: saving model to model\\keypoint_classifier.hdf5\n",
      "Epoch 54/1000\n",
      "30/30 [==============================] - 0s 3ms/step - loss: 0.5387 - accuracy: 0.7956 - val_loss: 0.1787 - val_accuracy: 0.9913\n",
      "\n",
      "Epoch 00054: saving model to model\\keypoint_classifier.hdf5\n",
      "Epoch 55/1000\n",
      "30/30 [==============================] - 0s 3ms/step - loss: 0.5254 - accuracy: 0.7993 - val_loss: 0.1871 - val_accuracy: 0.9906\n",
      "\n",
      "Epoch 00055: saving model to model\\keypoint_classifier.hdf5\n",
      "Epoch 56/1000\n",
      "30/30 [==============================] - 0s 4ms/step - loss: 0.5232 - accuracy: 0.7980 - val_loss: 0.1833 - val_accuracy: 0.9929\n",
      "\n",
      "Epoch 00056: saving model to model\\keypoint_classifier.hdf5\n",
      "Epoch 57/1000\n",
      "30/30 [==============================] - 0s 3ms/step - loss: 0.5167 - accuracy: 0.8035 - val_loss: 0.1914 - val_accuracy: 0.9898\n",
      "\n",
      "Epoch 00057: saving model to model\\keypoint_classifier.hdf5\n",
      "Epoch 58/1000\n",
      "30/30 [==============================] - 0s 3ms/step - loss: 0.5215 - accuracy: 0.7962 - val_loss: 0.1710 - val_accuracy: 0.9913\n",
      "\n",
      "Epoch 00058: saving model to model\\keypoint_classifier.hdf5\n",
      "Epoch 59/1000\n",
      "30/30 [==============================] - 0s 3ms/step - loss: 0.5191 - accuracy: 0.7964 - val_loss: 0.1903 - val_accuracy: 0.9890\n",
      "\n",
      "Epoch 00059: saving model to model\\keypoint_classifier.hdf5\n",
      "Epoch 60/1000\n",
      "30/30 [==============================] - 0s 3ms/step - loss: 0.4948 - accuracy: 0.8137 - val_loss: 0.1810 - val_accuracy: 0.9906\n",
      "\n",
      "Epoch 00060: saving model to model\\keypoint_classifier.hdf5\n",
      "Epoch 61/1000\n",
      "30/30 [==============================] - 0s 2ms/step - loss: 0.5396 - accuracy: 0.7807 - val_loss: 0.1864 - val_accuracy: 0.9906\n",
      "\n",
      "Epoch 00061: saving model to model\\keypoint_classifier.hdf5\n",
      "Epoch 62/1000\n",
      "30/30 [==============================] - 0s 2ms/step - loss: 0.5128 - accuracy: 0.8080 - val_loss: 0.1830 - val_accuracy: 0.9858\n",
      "\n",
      "Epoch 00062: saving model to model\\keypoint_classifier.hdf5\n",
      "Epoch 63/1000\n",
      "30/30 [==============================] - 0s 2ms/step - loss: 0.5179 - accuracy: 0.7972 - val_loss: 0.1805 - val_accuracy: 0.9866\n",
      "\n",
      "Epoch 00063: saving model to model\\keypoint_classifier.hdf5\n",
      "Epoch 64/1000\n",
      "30/30 [==============================] - 0s 2ms/step - loss: 0.5012 - accuracy: 0.8043 - val_loss: 0.1738 - val_accuracy: 0.9851\n",
      "\n",
      "Epoch 00064: saving model to model\\keypoint_classifier.hdf5\n",
      "Epoch 65/1000\n",
      "30/30 [==============================] - 0s 3ms/step - loss: 0.4879 - accuracy: 0.8127 - val_loss: 0.1761 - val_accuracy: 0.9851\n",
      "\n",
      "Epoch 00065: saving model to model\\keypoint_classifier.hdf5\n",
      "Epoch 66/1000\n",
      "30/30 [==============================] - 0s 2ms/step - loss: 0.5048 - accuracy: 0.8051 - val_loss: 0.1713 - val_accuracy: 0.9882\n",
      "\n",
      "Epoch 00066: saving model to model\\keypoint_classifier.hdf5\n",
      "Epoch 67/1000\n",
      "30/30 [==============================] - 0s 2ms/step - loss: 0.4809 - accuracy: 0.8182 - val_loss: 0.1688 - val_accuracy: 0.9882\n",
      "\n",
      "Epoch 00067: saving model to model\\keypoint_classifier.hdf5\n",
      "Epoch 68/1000\n",
      "30/30 [==============================] - 0s 3ms/step - loss: 0.5028 - accuracy: 0.8106 - val_loss: 0.1739 - val_accuracy: 0.9827\n",
      "\n",
      "Epoch 00068: saving model to model\\keypoint_classifier.hdf5\n",
      "Epoch 69/1000\n",
      "30/30 [==============================] - 0s 2ms/step - loss: 0.4859 - accuracy: 0.8182 - val_loss: 0.1785 - val_accuracy: 0.9764\n",
      "\n",
      "Epoch 00069: saving model to model\\keypoint_classifier.hdf5\n",
      "Epoch 70/1000\n",
      "30/30 [==============================] - 0s 3ms/step - loss: 0.4854 - accuracy: 0.8153 - val_loss: 0.1672 - val_accuracy: 0.9882\n",
      "\n",
      "Epoch 00070: saving model to model\\keypoint_classifier.hdf5\n",
      "Epoch 71/1000\n",
      "30/30 [==============================] - 0s 2ms/step - loss: 0.4709 - accuracy: 0.8237 - val_loss: 0.1702 - val_accuracy: 0.9843\n",
      "\n",
      "Epoch 00071: saving model to model\\keypoint_classifier.hdf5\n",
      "Epoch 72/1000\n",
      "30/30 [==============================] - 0s 2ms/step - loss: 0.4659 - accuracy: 0.8263 - val_loss: 0.1667 - val_accuracy: 0.9866\n",
      "\n",
      "Epoch 00072: saving model to model\\keypoint_classifier.hdf5\n",
      "Epoch 73/1000\n",
      "30/30 [==============================] - 0s 3ms/step - loss: 0.4924 - accuracy: 0.8145 - val_loss: 0.1602 - val_accuracy: 0.9921\n",
      "\n",
      "Epoch 00073: saving model to model\\keypoint_classifier.hdf5\n",
      "Epoch 74/1000\n",
      "30/30 [==============================] - 0s 2ms/step - loss: 0.4799 - accuracy: 0.8172 - val_loss: 0.1711 - val_accuracy: 0.9819\n",
      "\n",
      "Epoch 00074: saving model to model\\keypoint_classifier.hdf5\n",
      "Epoch 75/1000\n",
      "30/30 [==============================] - 0s 3ms/step - loss: 0.4658 - accuracy: 0.8235 - val_loss: 0.1614 - val_accuracy: 0.9835\n",
      "\n",
      "Epoch 00075: saving model to model\\keypoint_classifier.hdf5\n",
      "Epoch 76/1000\n",
      "30/30 [==============================] - 0s 2ms/step - loss: 0.4750 - accuracy: 0.8250 - val_loss: 0.1687 - val_accuracy: 0.9851\n",
      "\n",
      "Epoch 00076: saving model to model\\keypoint_classifier.hdf5\n",
      "Epoch 77/1000\n",
      "30/30 [==============================] - 0s 2ms/step - loss: 0.4760 - accuracy: 0.8195 - val_loss: 0.1763 - val_accuracy: 0.9748\n",
      "\n",
      "Epoch 00077: saving model to model\\keypoint_classifier.hdf5\n",
      "Epoch 78/1000\n",
      "30/30 [==============================] - 0s 2ms/step - loss: 0.4668 - accuracy: 0.8282 - val_loss: 0.1693 - val_accuracy: 0.9788\n",
      "\n",
      "Epoch 00078: saving model to model\\keypoint_classifier.hdf5\n",
      "Epoch 79/1000\n",
      "30/30 [==============================] - 0s 2ms/step - loss: 0.4695 - accuracy: 0.8250 - val_loss: 0.1738 - val_accuracy: 0.9630\n",
      "\n",
      "Epoch 00079: saving model to model\\keypoint_classifier.hdf5\n",
      "Epoch 80/1000\n",
      "30/30 [==============================] - 0s 3ms/step - loss: 0.4754 - accuracy: 0.8227 - val_loss: 0.1701 - val_accuracy: 0.9732\n",
      "\n",
      "Epoch 00080: saving model to model\\keypoint_classifier.hdf5\n",
      "Epoch 81/1000\n",
      "30/30 [==============================] - 0s 2ms/step - loss: 0.4615 - accuracy: 0.8258 - val_loss: 0.1708 - val_accuracy: 0.9732\n",
      "\n",
      "Epoch 00081: saving model to model\\keypoint_classifier.hdf5\n",
      "Epoch 82/1000\n",
      "30/30 [==============================] - 0s 2ms/step - loss: 0.4504 - accuracy: 0.8308 - val_loss: 0.1687 - val_accuracy: 0.9614\n",
      "\n",
      "Epoch 00082: saving model to model\\keypoint_classifier.hdf5\n",
      "Epoch 83/1000\n",
      "30/30 [==============================] - 0s 2ms/step - loss: 0.4612 - accuracy: 0.8258 - val_loss: 0.1647 - val_accuracy: 0.9788\n",
      "\n",
      "Epoch 00083: saving model to model\\keypoint_classifier.hdf5\n",
      "Epoch 84/1000\n",
      "30/30 [==============================] - 0s 2ms/step - loss: 0.4572 - accuracy: 0.8261 - val_loss: 0.1734 - val_accuracy: 0.9607\n",
      "\n",
      "Epoch 00084: saving model to model\\keypoint_classifier.hdf5\n",
      "Epoch 85/1000\n",
      "30/30 [==============================] - 0s 4ms/step - loss: 0.4824 - accuracy: 0.8256 - val_loss: 0.1798 - val_accuracy: 0.9622\n",
      "\n",
      "Epoch 00085: saving model to model\\keypoint_classifier.hdf5\n",
      "Epoch 86/1000\n",
      "30/30 [==============================] - 0s 3ms/step - loss: 0.4419 - accuracy: 0.8321 - val_loss: 0.1624 - val_accuracy: 0.9772\n",
      "\n",
      "Epoch 00086: saving model to model\\keypoint_classifier.hdf5\n",
      "Epoch 87/1000\n",
      "30/30 [==============================] - 0s 3ms/step - loss: 0.4526 - accuracy: 0.8342 - val_loss: 0.1654 - val_accuracy: 0.9685\n",
      "\n",
      "Epoch 00087: saving model to model\\keypoint_classifier.hdf5\n",
      "Epoch 88/1000\n",
      "30/30 [==============================] - 0s 3ms/step - loss: 0.4542 - accuracy: 0.8253 - val_loss: 0.1679 - val_accuracy: 0.9591\n",
      "\n",
      "Epoch 00088: saving model to model\\keypoint_classifier.hdf5\n",
      "Epoch 89/1000\n",
      "30/30 [==============================] - 0s 3ms/step - loss: 0.4520 - accuracy: 0.8337 - val_loss: 0.1578 - val_accuracy: 0.9772\n",
      "\n",
      "Epoch 00089: saving model to model\\keypoint_classifier.hdf5\n",
      "Epoch 90/1000\n",
      "30/30 [==============================] - 0s 3ms/step - loss: 0.4396 - accuracy: 0.8345 - val_loss: 0.1735 - val_accuracy: 0.9607\n",
      "\n",
      "Epoch 00090: saving model to model\\keypoint_classifier.hdf5\n",
      "Epoch 91/1000\n",
      "30/30 [==============================] - 0s 3ms/step - loss: 0.4508 - accuracy: 0.8366 - val_loss: 0.1769 - val_accuracy: 0.9544\n",
      "\n",
      "Epoch 00091: saving model to model\\keypoint_classifier.hdf5\n",
      "Epoch 92/1000\n",
      "30/30 [==============================] - 0s 2ms/step - loss: 0.4438 - accuracy: 0.8308 - val_loss: 0.1664 - val_accuracy: 0.9638\n",
      "\n",
      "Epoch 00092: saving model to model\\keypoint_classifier.hdf5\n",
      "Epoch 93/1000\n",
      "30/30 [==============================] - 0s 2ms/step - loss: 0.4360 - accuracy: 0.8397 - val_loss: 0.1816 - val_accuracy: 0.9559\n",
      "\n",
      "Epoch 00093: saving model to model\\keypoint_classifier.hdf5\n",
      "Epoch 94/1000\n",
      "30/30 [==============================] - 0s 2ms/step - loss: 0.4537 - accuracy: 0.8337 - val_loss: 0.1767 - val_accuracy: 0.9536\n",
      "\n",
      "Epoch 00094: saving model to model\\keypoint_classifier.hdf5\n",
      "Epoch 95/1000\n",
      "30/30 [==============================] - 0s 3ms/step - loss: 0.4343 - accuracy: 0.8371 - val_loss: 0.1608 - val_accuracy: 0.9725\n",
      "\n",
      "Epoch 00095: saving model to model\\keypoint_classifier.hdf5\n",
      "Epoch 96/1000\n",
      "30/30 [==============================] - 0s 3ms/step - loss: 0.4503 - accuracy: 0.8334 - val_loss: 0.1677 - val_accuracy: 0.9677\n",
      "\n",
      "Epoch 00096: saving model to model\\keypoint_classifier.hdf5\n",
      "Epoch 97/1000\n",
      "30/30 [==============================] - 0s 3ms/step - loss: 0.4517 - accuracy: 0.8321 - val_loss: 0.1711 - val_accuracy: 0.9662\n",
      "\n",
      "Epoch 00097: saving model to model\\keypoint_classifier.hdf5\n",
      "Epoch 98/1000\n",
      "30/30 [==============================] - 0s 3ms/step - loss: 0.4547 - accuracy: 0.8274 - val_loss: 0.1902 - val_accuracy: 0.9473\n",
      "\n",
      "Epoch 00098: saving model to model\\keypoint_classifier.hdf5\n",
      "Epoch 99/1000\n",
      "30/30 [==============================] - 0s 5ms/step - loss: 0.4381 - accuracy: 0.8416 - val_loss: 0.1806 - val_accuracy: 0.9552\n",
      "\n",
      "Epoch 00099: saving model to model\\keypoint_classifier.hdf5\n",
      "Epoch 100/1000\n",
      "30/30 [==============================] - 0s 3ms/step - loss: 0.4433 - accuracy: 0.8379 - val_loss: 0.1606 - val_accuracy: 0.9725\n",
      "\n",
      "Epoch 00100: saving model to model\\keypoint_classifier.hdf5\n",
      "Epoch 101/1000\n",
      "30/30 [==============================] - 0s 3ms/step - loss: 0.4195 - accuracy: 0.8450 - val_loss: 0.1731 - val_accuracy: 0.9536\n",
      "\n",
      "Epoch 00101: saving model to model\\keypoint_classifier.hdf5\n",
      "Epoch 102/1000\n",
      "30/30 [==============================] - 0s 3ms/step - loss: 0.4536 - accuracy: 0.8290 - val_loss: 0.1646 - val_accuracy: 0.9662\n",
      "\n",
      "Epoch 00102: saving model to model\\keypoint_classifier.hdf5\n",
      "Epoch 103/1000\n",
      "30/30 [==============================] - 0s 4ms/step - loss: 0.4367 - accuracy: 0.8337 - val_loss: 0.1682 - val_accuracy: 0.9630\n",
      "\n",
      "Epoch 00103: saving model to model\\keypoint_classifier.hdf5\n",
      "Epoch 104/1000\n",
      "30/30 [==============================] - 0s 3ms/step - loss: 0.4305 - accuracy: 0.8468 - val_loss: 0.1625 - val_accuracy: 0.9780\n",
      "\n",
      "Epoch 00104: saving model to model\\keypoint_classifier.hdf5\n",
      "Epoch 105/1000\n",
      "30/30 [==============================] - 0s 3ms/step - loss: 0.4423 - accuracy: 0.8337 - val_loss: 0.1714 - val_accuracy: 0.9544\n",
      "\n",
      "Epoch 00105: saving model to model\\keypoint_classifier.hdf5\n",
      "Epoch 106/1000\n",
      "30/30 [==============================] - 0s 3ms/step - loss: 0.4279 - accuracy: 0.8421 - val_loss: 0.1667 - val_accuracy: 0.9630\n",
      "\n",
      "Epoch 00106: saving model to model\\keypoint_classifier.hdf5\n",
      "Epoch 107/1000\n",
      "30/30 [==============================] - 0s 3ms/step - loss: 0.4333 - accuracy: 0.8358 - val_loss: 0.1559 - val_accuracy: 0.9654\n",
      "\n",
      "Epoch 00107: saving model to model\\keypoint_classifier.hdf5\n",
      "Epoch 108/1000\n",
      "30/30 [==============================] - 0s 3ms/step - loss: 0.4391 - accuracy: 0.8350 - val_loss: 0.1701 - val_accuracy: 0.9614\n",
      "\n",
      "Epoch 00108: saving model to model\\keypoint_classifier.hdf5\n",
      "Epoch 109/1000\n",
      "30/30 [==============================] - 0s 3ms/step - loss: 0.4263 - accuracy: 0.8439 - val_loss: 0.1746 - val_accuracy: 0.9599\n",
      "\n",
      "Epoch 00109: saving model to model\\keypoint_classifier.hdf5\n",
      "Epoch 110/1000\n",
      "30/30 [==============================] - 0s 3ms/step - loss: 0.4338 - accuracy: 0.8355 - val_loss: 0.1599 - val_accuracy: 0.9748\n",
      "\n",
      "Epoch 00110: saving model to model\\keypoint_classifier.hdf5\n",
      "Epoch 111/1000\n",
      "30/30 [==============================] - 0s 3ms/step - loss: 0.3880 - accuracy: 0.8549 - val_loss: 0.1578 - val_accuracy: 0.9630\n",
      "\n",
      "Epoch 00111: saving model to model\\keypoint_classifier.hdf5\n",
      "Epoch 112/1000\n",
      "30/30 [==============================] - 0s 3ms/step - loss: 0.4361 - accuracy: 0.8410 - val_loss: 0.1673 - val_accuracy: 0.9567\n",
      "\n",
      "Epoch 00112: saving model to model\\keypoint_classifier.hdf5\n",
      "Epoch 113/1000\n",
      "30/30 [==============================] - 0s 2ms/step - loss: 0.4337 - accuracy: 0.8366 - val_loss: 0.1641 - val_accuracy: 0.9677\n",
      "\n",
      "Epoch 00113: saving model to model\\keypoint_classifier.hdf5\n",
      "Epoch 114/1000\n",
      "30/30 [==============================] - 0s 3ms/step - loss: 0.4226 - accuracy: 0.8426 - val_loss: 0.1647 - val_accuracy: 0.9654\n",
      "\n",
      "Epoch 00114: saving model to model\\keypoint_classifier.hdf5\n",
      "Epoch 115/1000\n",
      "30/30 [==============================] - 0s 3ms/step - loss: 0.4277 - accuracy: 0.8384 - val_loss: 0.1653 - val_accuracy: 0.9614\n",
      "\n",
      "Epoch 00115: saving model to model\\keypoint_classifier.hdf5\n",
      "Epoch 116/1000\n",
      "30/30 [==============================] - 0s 3ms/step - loss: 0.4203 - accuracy: 0.8478 - val_loss: 0.1577 - val_accuracy: 0.9685\n",
      "\n",
      "Epoch 00116: saving model to model\\keypoint_classifier.hdf5\n",
      "Epoch 117/1000\n",
      "30/30 [==============================] - 0s 4ms/step - loss: 0.4166 - accuracy: 0.8431 - val_loss: 0.1676 - val_accuracy: 0.9575\n",
      "\n",
      "Epoch 00117: saving model to model\\keypoint_classifier.hdf5\n",
      "Epoch 118/1000\n",
      "30/30 [==============================] - 0s 3ms/step - loss: 0.4131 - accuracy: 0.8468 - val_loss: 0.1780 - val_accuracy: 0.9504\n",
      "\n",
      "Epoch 00118: saving model to model\\keypoint_classifier.hdf5\n",
      "Epoch 119/1000\n",
      "30/30 [==============================] - 0s 3ms/step - loss: 0.4049 - accuracy: 0.8528 - val_loss: 0.1732 - val_accuracy: 0.9536\n",
      "\n",
      "Epoch 00119: saving model to model\\keypoint_classifier.hdf5\n",
      "Epoch 120/1000\n",
      "30/30 [==============================] - 0s 3ms/step - loss: 0.4100 - accuracy: 0.8471 - val_loss: 0.1515 - val_accuracy: 0.9646\n",
      "\n",
      "Epoch 00120: saving model to model\\keypoint_classifier.hdf5\n",
      "Epoch 121/1000\n"
     ]
    },
    {
     "name": "stdout",
     "output_type": "stream",
     "text": [
      "30/30 [==============================] - 0s 3ms/step - loss: 0.4061 - accuracy: 0.8460 - val_loss: 0.1553 - val_accuracy: 0.9614\n",
      "\n",
      "Epoch 00121: saving model to model\\keypoint_classifier.hdf5\n",
      "Epoch 122/1000\n",
      "30/30 [==============================] - 0s 3ms/step - loss: 0.4060 - accuracy: 0.8576 - val_loss: 0.1603 - val_accuracy: 0.9630\n",
      "\n",
      "Epoch 00122: saving model to model\\keypoint_classifier.hdf5\n",
      "Epoch 123/1000\n",
      "30/30 [==============================] - 0s 3ms/step - loss: 0.4079 - accuracy: 0.8549 - val_loss: 0.1528 - val_accuracy: 0.9630\n",
      "\n",
      "Epoch 00123: saving model to model\\keypoint_classifier.hdf5\n",
      "Epoch 124/1000\n",
      "30/30 [==============================] - 0s 3ms/step - loss: 0.4041 - accuracy: 0.8423 - val_loss: 0.1614 - val_accuracy: 0.9630\n",
      "\n",
      "Epoch 00124: saving model to model\\keypoint_classifier.hdf5\n",
      "Epoch 125/1000\n",
      "30/30 [==============================] - 0s 2ms/step - loss: 0.4054 - accuracy: 0.8578 - val_loss: 0.1687 - val_accuracy: 0.9559\n",
      "\n",
      "Epoch 00125: saving model to model\\keypoint_classifier.hdf5\n",
      "Epoch 126/1000\n",
      "30/30 [==============================] - 0s 3ms/step - loss: 0.3797 - accuracy: 0.8594 - val_loss: 0.1518 - val_accuracy: 0.9622\n",
      "\n",
      "Epoch 00126: saving model to model\\keypoint_classifier.hdf5\n",
      "Epoch 127/1000\n",
      "30/30 [==============================] - 0s 2ms/step - loss: 0.4239 - accuracy: 0.8513 - val_loss: 0.1766 - val_accuracy: 0.9528\n",
      "\n",
      "Epoch 00127: saving model to model\\keypoint_classifier.hdf5\n",
      "Epoch 128/1000\n",
      "30/30 [==============================] - 0s 3ms/step - loss: 0.3952 - accuracy: 0.8576 - val_loss: 0.1614 - val_accuracy: 0.9607\n",
      "\n",
      "Epoch 00128: saving model to model\\keypoint_classifier.hdf5\n",
      "Epoch 129/1000\n",
      "30/30 [==============================] - 0s 2ms/step - loss: 0.4088 - accuracy: 0.8539 - val_loss: 0.1492 - val_accuracy: 0.9646\n",
      "\n",
      "Epoch 00129: saving model to model\\keypoint_classifier.hdf5\n",
      "Epoch 130/1000\n",
      "30/30 [==============================] - 0s 2ms/step - loss: 0.4165 - accuracy: 0.8476 - val_loss: 0.1661 - val_accuracy: 0.9544\n",
      "\n",
      "Epoch 00130: saving model to model\\keypoint_classifier.hdf5\n",
      "Epoch 131/1000\n",
      "30/30 [==============================] - 0s 2ms/step - loss: 0.3870 - accuracy: 0.8615 - val_loss: 0.1537 - val_accuracy: 0.9654\n",
      "\n",
      "Epoch 00131: saving model to model\\keypoint_classifier.hdf5\n",
      "Epoch 132/1000\n",
      "30/30 [==============================] - 0s 3ms/step - loss: 0.4231 - accuracy: 0.8374 - val_loss: 0.1565 - val_accuracy: 0.9670\n",
      "\n",
      "Epoch 00132: saving model to model\\keypoint_classifier.hdf5\n",
      "Epoch 133/1000\n",
      "30/30 [==============================] - 0s 2ms/step - loss: 0.3965 - accuracy: 0.8536 - val_loss: 0.1625 - val_accuracy: 0.9614\n",
      "\n",
      "Epoch 00133: saving model to model\\keypoint_classifier.hdf5\n",
      "Epoch 134/1000\n",
      "30/30 [==============================] - 0s 3ms/step - loss: 0.3912 - accuracy: 0.8478 - val_loss: 0.1664 - val_accuracy: 0.9630\n",
      "\n",
      "Epoch 00134: saving model to model\\keypoint_classifier.hdf5\n",
      "Epoch 135/1000\n",
      "30/30 [==============================] - 0s 3ms/step - loss: 0.3959 - accuracy: 0.8547 - val_loss: 0.1835 - val_accuracy: 0.9465\n",
      "\n",
      "Epoch 00135: saving model to model\\keypoint_classifier.hdf5\n",
      "Epoch 136/1000\n",
      "30/30 [==============================] - 0s 3ms/step - loss: 0.3871 - accuracy: 0.8583 - val_loss: 0.1625 - val_accuracy: 0.9544\n",
      "\n",
      "Epoch 00136: saving model to model\\keypoint_classifier.hdf5\n",
      "Epoch 137/1000\n",
      "30/30 [==============================] - 0s 3ms/step - loss: 0.4061 - accuracy: 0.8534 - val_loss: 0.1487 - val_accuracy: 0.9748\n",
      "\n",
      "Epoch 00137: saving model to model\\keypoint_classifier.hdf5\n",
      "Epoch 138/1000\n",
      "30/30 [==============================] - 0s 2ms/step - loss: 0.4007 - accuracy: 0.8549 - val_loss: 0.1674 - val_accuracy: 0.9614\n",
      "\n",
      "Epoch 00138: saving model to model\\keypoint_classifier.hdf5\n",
      "Epoch 139/1000\n",
      "30/30 [==============================] - 0s 2ms/step - loss: 0.3792 - accuracy: 0.8576 - val_loss: 0.1565 - val_accuracy: 0.9662\n",
      "\n",
      "Epoch 00139: saving model to model\\keypoint_classifier.hdf5\n",
      "Epoch 140/1000\n",
      "30/30 [==============================] - 0s 2ms/step - loss: 0.4313 - accuracy: 0.8381 - val_loss: 0.1549 - val_accuracy: 0.9685\n",
      "\n",
      "Epoch 00140: saving model to model\\keypoint_classifier.hdf5\n",
      "Epoch 141/1000\n",
      "30/30 [==============================] - 0s 3ms/step - loss: 0.4012 - accuracy: 0.8528 - val_loss: 0.1521 - val_accuracy: 0.9630\n",
      "\n",
      "Epoch 00141: saving model to model\\keypoint_classifier.hdf5\n",
      "Epoch 142/1000\n",
      "30/30 [==============================] - 0s 2ms/step - loss: 0.3933 - accuracy: 0.8507 - val_loss: 0.1666 - val_accuracy: 0.9630\n",
      "\n",
      "Epoch 00142: saving model to model\\keypoint_classifier.hdf5\n",
      "Epoch 143/1000\n",
      "30/30 [==============================] - 0s 2ms/step - loss: 0.4080 - accuracy: 0.8507 - val_loss: 0.1644 - val_accuracy: 0.9638\n",
      "\n",
      "Epoch 00143: saving model to model\\keypoint_classifier.hdf5\n",
      "Epoch 144/1000\n",
      "30/30 [==============================] - 0s 3ms/step - loss: 0.3996 - accuracy: 0.8636 - val_loss: 0.1596 - val_accuracy: 0.9662\n",
      "\n",
      "Epoch 00144: saving model to model\\keypoint_classifier.hdf5\n",
      "Epoch 145/1000\n",
      "30/30 [==============================] - 0s 2ms/step - loss: 0.3813 - accuracy: 0.8620 - val_loss: 0.1683 - val_accuracy: 0.9575\n",
      "\n",
      "Epoch 00145: saving model to model\\keypoint_classifier.hdf5\n",
      "Epoch 146/1000\n",
      "30/30 [==============================] - 0s 3ms/step - loss: 0.3864 - accuracy: 0.8602 - val_loss: 0.1724 - val_accuracy: 0.9528\n",
      "\n",
      "Epoch 00146: saving model to model\\keypoint_classifier.hdf5\n",
      "Epoch 147/1000\n",
      "30/30 [==============================] - 0s 2ms/step - loss: 0.3838 - accuracy: 0.8581 - val_loss: 0.1558 - val_accuracy: 0.9638\n",
      "\n",
      "Epoch 00147: saving model to model\\keypoint_classifier.hdf5\n",
      "Epoch 148/1000\n",
      "30/30 [==============================] - 0s 2ms/step - loss: 0.3933 - accuracy: 0.8549 - val_loss: 0.1500 - val_accuracy: 0.9638\n",
      "\n",
      "Epoch 00148: saving model to model\\keypoint_classifier.hdf5\n",
      "Epoch 149/1000\n",
      "30/30 [==============================] - 0s 2ms/step - loss: 0.3862 - accuracy: 0.8560 - val_loss: 0.1575 - val_accuracy: 0.9638\n",
      "\n",
      "Epoch 00149: saving model to model\\keypoint_classifier.hdf5\n",
      "Epoch 150/1000\n",
      "30/30 [==============================] - 0s 2ms/step - loss: 0.3787 - accuracy: 0.8654 - val_loss: 0.1547 - val_accuracy: 0.9591\n",
      "\n",
      "Epoch 00150: saving model to model\\keypoint_classifier.hdf5\n",
      "Epoch 151/1000\n",
      "30/30 [==============================] - 0s 3ms/step - loss: 0.4024 - accuracy: 0.8560 - val_loss: 0.1490 - val_accuracy: 0.9748\n",
      "\n",
      "Epoch 00151: saving model to model\\keypoint_classifier.hdf5\n",
      "Epoch 152/1000\n",
      "30/30 [==============================] - 0s 2ms/step - loss: 0.3830 - accuracy: 0.8639 - val_loss: 0.1815 - val_accuracy: 0.9528\n",
      "\n",
      "Epoch 00152: saving model to model\\keypoint_classifier.hdf5\n",
      "Epoch 153/1000\n",
      "30/30 [==============================] - 0s 2ms/step - loss: 0.3847 - accuracy: 0.8618 - val_loss: 0.1559 - val_accuracy: 0.9677\n",
      "\n",
      "Epoch 00153: saving model to model\\keypoint_classifier.hdf5\n",
      "Epoch 154/1000\n",
      "30/30 [==============================] - 0s 3ms/step - loss: 0.3592 - accuracy: 0.8772 - val_loss: 0.1447 - val_accuracy: 0.9732\n",
      "\n",
      "Epoch 00154: saving model to model\\keypoint_classifier.hdf5\n",
      "Epoch 155/1000\n",
      "30/30 [==============================] - 0s 2ms/step - loss: 0.3853 - accuracy: 0.8589 - val_loss: 0.1699 - val_accuracy: 0.9575\n",
      "\n",
      "Epoch 00155: saving model to model\\keypoint_classifier.hdf5\n",
      "Epoch 156/1000\n",
      "30/30 [==============================] - 0s 3ms/step - loss: 0.3735 - accuracy: 0.8683 - val_loss: 0.1499 - val_accuracy: 0.9662\n",
      "\n",
      "Epoch 00156: saving model to model\\keypoint_classifier.hdf5\n",
      "Epoch 157/1000\n",
      "30/30 [==============================] - 0s 2ms/step - loss: 0.3576 - accuracy: 0.8741 - val_loss: 0.1499 - val_accuracy: 0.9630\n",
      "\n",
      "Epoch 00157: saving model to model\\keypoint_classifier.hdf5\n",
      "Epoch 158/1000\n",
      "30/30 [==============================] - 0s 2ms/step - loss: 0.3719 - accuracy: 0.8675 - val_loss: 0.1629 - val_accuracy: 0.9575\n",
      "\n",
      "Epoch 00158: saving model to model\\keypoint_classifier.hdf5\n",
      "Epoch 159/1000\n",
      "30/30 [==============================] - 0s 2ms/step - loss: 0.3881 - accuracy: 0.8615 - val_loss: 0.1531 - val_accuracy: 0.9662\n",
      "\n",
      "Epoch 00159: saving model to model\\keypoint_classifier.hdf5\n",
      "Epoch 160/1000\n",
      "30/30 [==============================] - 0s 2ms/step - loss: 0.3848 - accuracy: 0.8615 - val_loss: 0.1433 - val_accuracy: 0.9709\n",
      "\n",
      "Epoch 00160: saving model to model\\keypoint_classifier.hdf5\n",
      "Epoch 161/1000\n"
     ]
    },
    {
     "name": "stdout",
     "output_type": "stream",
     "text": [
      "30/30 [==============================] - 0s 3ms/step - loss: 0.3691 - accuracy: 0.8644 - val_loss: 0.1483 - val_accuracy: 0.9701\n",
      "\n",
      "Epoch 00161: saving model to model\\keypoint_classifier.hdf5\n",
      "Epoch 162/1000\n",
      "30/30 [==============================] - 0s 2ms/step - loss: 0.3683 - accuracy: 0.8665 - val_loss: 0.1584 - val_accuracy: 0.9583\n",
      "\n",
      "Epoch 00162: saving model to model\\keypoint_classifier.hdf5\n",
      "Epoch 163/1000\n",
      "30/30 [==============================] - 0s 2ms/step - loss: 0.3876 - accuracy: 0.8565 - val_loss: 0.1624 - val_accuracy: 0.9583\n",
      "\n",
      "Epoch 00163: saving model to model\\keypoint_classifier.hdf5\n",
      "Epoch 164/1000\n",
      "30/30 [==============================] - 0s 2ms/step - loss: 0.3970 - accuracy: 0.8534 - val_loss: 0.1618 - val_accuracy: 0.9717\n",
      "\n",
      "Epoch 00164: saving model to model\\keypoint_classifier.hdf5\n",
      "Epoch 165/1000\n",
      "30/30 [==============================] - 0s 2ms/step - loss: 0.3718 - accuracy: 0.8657 - val_loss: 0.1475 - val_accuracy: 0.9709\n",
      "\n",
      "Epoch 00165: saving model to model\\keypoint_classifier.hdf5\n",
      "Epoch 166/1000\n",
      "30/30 [==============================] - 0s 3ms/step - loss: 0.3619 - accuracy: 0.8733 - val_loss: 0.1436 - val_accuracy: 0.9764\n",
      "\n",
      "Epoch 00166: saving model to model\\keypoint_classifier.hdf5\n",
      "Epoch 167/1000\n",
      "30/30 [==============================] - 0s 2ms/step - loss: 0.3608 - accuracy: 0.8691 - val_loss: 0.1663 - val_accuracy: 0.9567\n",
      "\n",
      "Epoch 00167: saving model to model\\keypoint_classifier.hdf5\n",
      "Epoch 168/1000\n",
      "30/30 [==============================] - 0s 2ms/step - loss: 0.3777 - accuracy: 0.8659 - val_loss: 0.1373 - val_accuracy: 0.9843\n",
      "\n",
      "Epoch 00168: saving model to model\\keypoint_classifier.hdf5\n",
      "Epoch 169/1000\n",
      "30/30 [==============================] - 0s 2ms/step - loss: 0.3763 - accuracy: 0.8610 - val_loss: 0.1531 - val_accuracy: 0.9670\n",
      "\n",
      "Epoch 00169: saving model to model\\keypoint_classifier.hdf5\n",
      "Epoch 170/1000\n",
      "30/30 [==============================] - 0s 2ms/step - loss: 0.3535 - accuracy: 0.8746 - val_loss: 0.1481 - val_accuracy: 0.9654\n",
      "\n",
      "Epoch 00170: saving model to model\\keypoint_classifier.hdf5\n",
      "Epoch 171/1000\n",
      "30/30 [==============================] - 0s 3ms/step - loss: 0.3913 - accuracy: 0.8633 - val_loss: 0.1487 - val_accuracy: 0.9662\n",
      "\n",
      "Epoch 00171: saving model to model\\keypoint_classifier.hdf5\n",
      "Epoch 172/1000\n",
      "30/30 [==============================] - 0s 2ms/step - loss: 0.3455 - accuracy: 0.8788 - val_loss: 0.1786 - val_accuracy: 0.9489\n",
      "\n",
      "Epoch 00172: saving model to model\\keypoint_classifier.hdf5\n",
      "Epoch 173/1000\n",
      "30/30 [==============================] - 0s 2ms/step - loss: 0.3671 - accuracy: 0.8657 - val_loss: 0.1431 - val_accuracy: 0.9677\n",
      "\n",
      "Epoch 00173: saving model to model\\keypoint_classifier.hdf5\n",
      "Epoch 174/1000\n",
      "30/30 [==============================] - 0s 2ms/step - loss: 0.3801 - accuracy: 0.8696 - val_loss: 0.1445 - val_accuracy: 0.9756\n",
      "\n",
      "Epoch 00174: saving model to model\\keypoint_classifier.hdf5\n",
      "Epoch 175/1000\n",
      "30/30 [==============================] - 0s 2ms/step - loss: 0.3703 - accuracy: 0.8615 - val_loss: 0.1751 - val_accuracy: 0.9528\n",
      "\n",
      "Epoch 00175: saving model to model\\keypoint_classifier.hdf5\n",
      "Epoch 176/1000\n",
      "30/30 [==============================] - 0s 2ms/step - loss: 0.3669 - accuracy: 0.8675 - val_loss: 0.1455 - val_accuracy: 0.9756\n",
      "\n",
      "Epoch 00176: saving model to model\\keypoint_classifier.hdf5\n",
      "Epoch 177/1000\n",
      "30/30 [==============================] - 0s 3ms/step - loss: 0.3716 - accuracy: 0.8665 - val_loss: 0.1554 - val_accuracy: 0.9614\n",
      "\n",
      "Epoch 00177: saving model to model\\keypoint_classifier.hdf5\n",
      "Epoch 178/1000\n",
      "30/30 [==============================] - 0s 2ms/step - loss: 0.3696 - accuracy: 0.8654 - val_loss: 0.1392 - val_accuracy: 0.9756\n",
      "\n",
      "Epoch 00178: saving model to model\\keypoint_classifier.hdf5\n",
      "Epoch 179/1000\n",
      "30/30 [==============================] - 0s 2ms/step - loss: 0.3807 - accuracy: 0.8602 - val_loss: 0.1698 - val_accuracy: 0.9575\n",
      "\n",
      "Epoch 00179: saving model to model\\keypoint_classifier.hdf5\n",
      "Epoch 180/1000\n",
      "30/30 [==============================] - 0s 2ms/step - loss: 0.3653 - accuracy: 0.8649 - val_loss: 0.1454 - val_accuracy: 0.9827\n",
      "\n",
      "Epoch 00180: saving model to model\\keypoint_classifier.hdf5\n",
      "Epoch 181/1000\n",
      "30/30 [==============================] - 0s 3ms/step - loss: 0.3801 - accuracy: 0.8636 - val_loss: 0.1716 - val_accuracy: 0.9591\n",
      "\n",
      "Epoch 00181: saving model to model\\keypoint_classifier.hdf5\n",
      "Epoch 182/1000\n",
      "30/30 [==============================] - 0s 6ms/step - loss: 0.3635 - accuracy: 0.8670 - val_loss: 0.1459 - val_accuracy: 0.9725\n",
      "\n",
      "Epoch 00182: saving model to model\\keypoint_classifier.hdf5\n",
      "Epoch 183/1000\n",
      "30/30 [==============================] - 0s 3ms/step - loss: 0.3750 - accuracy: 0.8691 - val_loss: 0.1454 - val_accuracy: 0.9780\n",
      "\n",
      "Epoch 00183: saving model to model\\keypoint_classifier.hdf5\n",
      "Epoch 184/1000\n",
      "30/30 [==============================] - 0s 3ms/step - loss: 0.3805 - accuracy: 0.8654 - val_loss: 0.1810 - val_accuracy: 0.9496\n",
      "\n",
      "Epoch 00184: saving model to model\\keypoint_classifier.hdf5\n",
      "Epoch 185/1000\n",
      "30/30 [==============================] - 0s 3ms/step - loss: 0.3342 - accuracy: 0.8864 - val_loss: 0.1415 - val_accuracy: 0.9756\n",
      "\n",
      "Epoch 00185: saving model to model\\keypoint_classifier.hdf5\n",
      "Epoch 186/1000\n",
      "30/30 [==============================] - 0s 2ms/step - loss: 0.3774 - accuracy: 0.8652 - val_loss: 0.1413 - val_accuracy: 0.9780\n",
      "\n",
      "Epoch 00186: saving model to model\\keypoint_classifier.hdf5\n",
      "Epoch 187/1000\n",
      "30/30 [==============================] - 0s 2ms/step - loss: 0.3853 - accuracy: 0.8623 - val_loss: 0.1540 - val_accuracy: 0.9670\n",
      "\n",
      "Epoch 00187: saving model to model\\keypoint_classifier.hdf5\n",
      "Epoch 188/1000\n",
      "30/30 [==============================] - 0s 2ms/step - loss: 0.3690 - accuracy: 0.8652 - val_loss: 0.1726 - val_accuracy: 0.9630\n",
      "\n",
      "Epoch 00188: saving model to model\\keypoint_classifier.hdf5\n",
      "Epoch 00188: early stopping\n"
     ]
    },
    {
     "data": {
      "text/plain": [
       "<keras.callbacks.History at 0x201a09791c0>"
      ]
     },
     "execution_count": 12,
     "metadata": {},
     "output_type": "execute_result"
    }
   ],
   "source": [
    "model.fit(\n",
    "    X_train,\n",
    "    y_train,\n",
    "    epochs=1000,\n",
    "    batch_size=128,\n",
    "    validation_data=(X_test, y_test),\n",
    "    callbacks=[cp_callback, es_callback]\n",
    ")"
   ]
  },
  {
   "cell_type": "code",
   "execution_count": 13,
   "metadata": {
    "colab": {
     "base_uri": "https://localhost:8080/"
    },
    "id": "pxvb2Y299hE3",
    "outputId": "59eb3185-2e37-4b9e-bc9d-ab1b8ac29b7f"
   },
   "outputs": [
    {
     "name": "stdout",
     "output_type": "stream",
     "text": [
      "10/10 [==============================] - 0s 2ms/step - loss: 0.1726 - accuracy: 0.9630\n"
     ]
    }
   ],
   "source": [
    "# Model evaluation\n",
    "val_loss, val_acc = model.evaluate(X_test, y_test, batch_size=128)"
   ]
  },
  {
   "cell_type": "code",
   "execution_count": 14,
   "metadata": {
    "id": "RBkmDeUW9hE4"
   },
   "outputs": [],
   "source": [
    "# Loading the saved model\n",
    "model = tf.keras.models.load_model(model_save_path)"
   ]
  },
  {
   "cell_type": "code",
   "execution_count": 15,
   "metadata": {
    "colab": {
     "base_uri": "https://localhost:8080/"
    },
    "id": "tFz9Tb0I9hE4",
    "outputId": "1c3b3528-54ae-4ee2-ab04-77429211cbef"
   },
   "outputs": [
    {
     "name": "stdout",
     "output_type": "stream",
     "text": [
      "[7.7183343e-10 9.9455392e-01 7.2983346e-07 3.3451772e-05 3.2947611e-10\n",
      " 4.0484272e-04 3.9468950e-06 1.3355216e-07 5.0029964e-03]\n",
      "1\n"
     ]
    }
   ],
   "source": [
    "# Inference test\n",
    "predict_result = model.predict(np.array([X_test[0]]))\n",
    "print(np.squeeze(predict_result))\n",
    "print(np.argmax(np.squeeze(predict_result)))"
   ]
  },
  {
   "cell_type": "markdown",
   "metadata": {
    "id": "S3U4yNWx9hE4"
   },
   "source": [
    "# Confusion matrix"
   ]
  },
  {
   "cell_type": "code",
   "execution_count": 16,
   "metadata": {
    "colab": {
     "base_uri": "https://localhost:8080/",
     "height": 582
    },
    "id": "AP1V6SCk9hE5",
    "outputId": "08e41a80-7a4a-4619-8125-ecc371368d19"
   },
   "outputs": [
    {
     "data": {
      "image/png": "[encoded data removed]",
      "text/plain": [
       "<Figure size 504x432 with 2 Axes>"
      ]
     },
     "metadata": {
      "needs_background": "light"
     },
     "output_type": "display_data"
    },
    {
     "name": "stdout",
     "output_type": "stream",
     "text": [
      "Classification Report\n",
      "              precision    recall  f1-score   support\n",
      "\n",
      "           0       0.99      0.98      0.99       127\n",
      "           1       0.98      1.00      0.99       287\n",
      "           2       1.00      1.00      1.00       126\n",
      "           3       0.98      0.99      0.98       119\n",
      "           4       0.99      0.99      0.99       116\n",
      "           5       1.00      0.75      0.86       132\n",
      "           6       0.99      0.96      0.98       114\n",
      "           7       0.99      1.00      0.99        92\n",
      "           8       0.82      0.97      0.89       158\n",
      "\n",
      "    accuracy                           0.96      1271\n",
      "   macro avg       0.97      0.96      0.96      1271\n",
      "weighted avg       0.97      0.96      0.96      1271\n",
      "\n"
     ]
    }
   ],
   "source": [
    "import pandas as pd\n",
    "import seaborn as sns\n",
    "import matplotlib.pyplot as plt\n",
    "from sklearn.metrics import confusion_matrix, classification_report\n",
    "\n",
    "def print_confusion_matrix(y_true, y_pred, report=True):\n",
    "    labels = sorted(list(set(y_true)))\n",
    "    cmx_data = confusion_matrix(y_true, y_pred, labels=labels)\n",
    "    \n",
    "    df_cmx = pd.DataFrame(cmx_data, index=labels, columns=labels)\n",
    " \n",
    "    fig, ax = plt.subplots(figsize=(7, 6))\n",
    "    sns.heatmap(df_cmx, annot=True, fmt='g' ,square=False)\n",
    "    ax.set_ylim(len(set(y_true)), 0)\n",
    "    plt.show()\n",
    "    \n",
    "    if report:\n",
    "        print('Classification Report')\n",
    "        print(classification_report(y_test, y_pred))\n",
    "\n",
    "Y_pred = model.predict(X_test)\n",
    "y_pred = np.argmax(Y_pred, axis=1)\n",
    "\n",
    "print_confusion_matrix(y_test, y_pred)"
   ]
  },
  {
   "cell_type": "markdown",
   "metadata": {
    "id": "FNP6aqzc9hE5"
   },
   "source": [
    "# Convert to model for Tensorflow-Lite"
   ]
  },
  {
   "cell_type": "code",
   "execution_count": 17,
   "metadata": {
    "id": "ODjnYyld9hE6"
   },
   "outputs": [],
   "source": [
    "# Save as a model dedicated to inference\n",
    "model.save(model_save_path, include_optimizer=False)"
   ]
  },
  {
   "cell_type": "code",
   "execution_count": 18,
   "metadata": {
    "colab": {
     "base_uri": "https://localhost:8080/"
    },
    "id": "zRfuK8Y59hE6",
    "outputId": "a4ca585c-b5d5-4244-8291-8674063209bb"
   },
   "outputs": [
    {
     "name": "stdout",
     "output_type": "stream",
     "text": [
      "INFO:tensorflow:Assets written to: C:\\Users\\Asus\\AppData\\Local\\Temp\\tmpoz_dwz2o\\assets\n"
     ]
    },
    {
     "data": {
      "text/plain": [
       "7168"
      ]
     },
     "execution_count": 18,
     "metadata": {},
     "output_type": "execute_result"
    }
   ],
   "source": [
    "# Transform model (quantization)\n",
    "\n",
    "converter = tf.lite.TFLiteConverter.from_keras_model(model)\n",
    "converter.optimizations = [tf.lite.Optimize.DEFAULT]\n",
    "tflite_quantized_model = converter.convert()\n",
    "\n",
    "open(tflite_save_path, 'wb').write(tflite_quantized_model)"
   ]
  },
  {
   "cell_type": "markdown",
   "metadata": {
    "id": "CHBPBXdx9hE6"
   },
   "source": [
    "# Inference test"
   ]
  },
  {
   "cell_type": "code",
   "execution_count": 19,
   "metadata": {
    "id": "mGAzLocO9hE7"
   },
   "outputs": [],
   "source": [
    "interpreter = tf.lite.Interpreter(model_path=tflite_save_path)\n",
    "interpreter.allocate_tensors()"
   ]
  },
  {
   "cell_type": "code",
   "execution_count": 20,
   "metadata": {
    "id": "oQuDK8YS9hE7"
   },
   "outputs": [],
   "source": [
    "# Get I / O tensor\n",
    "input_details = interpreter.get_input_details()\n",
    "output_details = interpreter.get_output_details()"
   ]
  },
  {
   "cell_type": "code",
   "execution_count": 21,
   "metadata": {
    "id": "2_ixAf_l9hE7"
   },
   "outputs": [],
   "source": [
    "interpreter.set_tensor(input_details[0]['index'], np.array([X_test[0]]))"
   ]
  },
  {
   "cell_type": "code",
   "execution_count": 22,
   "metadata": {
    "colab": {
     "base_uri": "https://localhost:8080/"
    },
    "id": "s4FoAnuc9hE7",
    "outputId": "91f18257-8d8b-4ef3-c558-e9b5f94fabbf",
    "scrolled": true
   },
   "outputs": [
    {
     "name": "stdout",
     "output_type": "stream",
     "text": [
      "Wall time: 0 ns\n"
     ]
    }
   ],
   "source": [
    "%%time\n",
    "# Inference implementation\n",
    "interpreter.invoke()\n",
    "tflite_results = interpreter.get_tensor(output_details[0]['index'])"
   ]
  },
  {
   "cell_type": "code",
   "execution_count": 23,
   "metadata": {
    "colab": {
     "base_uri": "https://localhost:8080/"
    },
    "id": "vONjp19J9hE8",
    "outputId": "77205e24-fd00-42c4-f7b6-e06e527c2cba"
   },
   "outputs": [
    {
     "name": "stdout",
     "output_type": "stream",
     "text": [
      "[7.7183337e-10 9.9455392e-01 7.2983278e-07 3.3451735e-05 3.2947484e-10\n",
      " 4.0484249e-04 3.9468946e-06 1.3355177e-07 5.0029824e-03]\n",
      "1\n"
     ]
    }
   ],
   "source": [
    "print(np.squeeze(tflite_results))\n",
    "print(np.argmax(np.squeeze(tflite_results)))"
   ]
  },
  {
   "cell_type": "code",
   "execution_count": null,
   "metadata": {},
   "outputs": [],
   "source": []
  }
 ],
 "metadata": {
  "accelerator": "GPU",
  "colab": {
   "collapsed_sections": [],
   "name": "keypoint_classification_EN.ipynb",
   "provenance": [],
   "toc_visible": true
  },
  "kernelspec": {
   "display_name": "Python 3",
   "language": "python",
   "name": "python3"
  },
  "language_info": {
   "codemirror_mode": {
    "name": "ipython",
    "version": 3
   },
   "file_extension": ".py",
   "mimetype": "text/x-python",
   "name": "python",
   "nbconvert_exporter": "python",
   "pygments_lexer": "ipython3",
   "version": "3.9.2"
  }
 },
 "nbformat": 4,
 "nbformat_minor": 1
}
